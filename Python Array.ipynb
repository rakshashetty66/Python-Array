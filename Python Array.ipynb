{
 "cells": [
  {
   "cell_type": "code",
   "execution_count": 3,
   "id": "6eef3963-c3eb-4bf9-898f-eba6374938c2",
   "metadata": {},
   "outputs": [],
   "source": [
    "# Python Array Module\n",
    "import array as myarray"
   ]
  },
  {
   "cell_type": "code",
   "execution_count": 7,
   "id": "907cc761-6fb9-4953-b19e-68b259df49f1",
   "metadata": {},
   "outputs": [
    {
     "name": "stdout",
     "output_type": "stream",
     "text": [
      "i\n",
      "d\n",
      "u\n",
      "array('i', [1, 2, 3])\n",
      "array('d', [1.0, 2.1, 2.4, 2.5, 2.6])\n",
      "array('u', 'abcd')\n",
      "3\n",
      "5\n",
      "4\n"
     ]
    }
   ],
   "source": [
    "# Creating an array\n",
    "arr=myarray.array('i',[1,2,3])\n",
    "arr1=myarray.array('d',[1.0,2.1,2.4,2.5,2.6])\n",
    "arr2=myarray.array('u',['a','b','c','d'])\n",
    "\n",
    "# To Check TypeCodes\n",
    "print(arr.typecode)\n",
    "print(arr1.typecode)\n",
    "print(arr2.typecode)\n",
    "\n",
    "# First Look at the Array\n",
    "print(arr)\n",
    "print(arr1)\n",
    "print(arr2)\n",
    "\n",
    "# To print length of the Array\n",
    "print(len(arr))\n",
    "print(len(arr1))\n",
    "print(len(arr2))"
   ]
  },
  {
   "cell_type": "code",
   "execution_count": 10,
   "id": "762e254a-4313-49f9-95bc-ebe99b04b388",
   "metadata": {},
   "outputs": [
    {
     "name": "stdout",
     "output_type": "stream",
     "text": [
      "1 2 3 \n",
      "\n",
      "1.0 2.1 2.4 2.5 2.6 \n",
      "\n",
      "a b c d \n",
      "\n"
     ]
    }
   ],
   "source": [
    "for i in range(0,len(arr)):\n",
    "    print(arr[i],end=\" \")\n",
    "print(\"\\n\")\n",
    "\n",
    "for i in range(0,len(arr1)):\n",
    "    print(arr1[i],end=\" \")\n",
    "print(\"\\n\")\n",
    "\n",
    "for i in range(0,len(arr2)):\n",
    "    print(arr2[i],end=\" \")\n",
    "print(\"\\n\")"
   ]
  },
  {
   "cell_type": "code",
   "execution_count": 15,
   "id": "48640fa8-68a7-4df5-a89b-c03e21886b59",
   "metadata": {},
   "outputs": [
    {
     "name": "stdout",
     "output_type": "stream",
     "text": [
      "Elements in the Array are: \n",
      "1 3 5 7 9 11 13 15 17 19 21 23 25 27 29 31 33 35 37 39 41 43 45 47 49 51 53 55 57 59 61 63 65 67 69 71 73 75 77 79 81 83 85 87 89 91 93 95 97 99 \n",
      "\n",
      "Element at index 25:  51\n"
     ]
    }
   ],
   "source": [
    "# Assessing Elements from an array using index values\n",
    "\n",
    "x=list(range(1,100,2))\n",
    "\n",
    "# Printing the Array\n",
    "new_array=myarray.array('i',x)\n",
    "print(\"Elements in the Array are: \")\n",
    "for i in range(0,len(new_array)):\n",
    "    print(new_array[i],end=\" \")\n",
    "print(\"\\n\")\n",
    "\n",
    "# Accessing the array at index 25\n",
    "print(\"Element at index 25: \",new_array[25])"
   ]
  },
  {
   "cell_type": "code",
   "execution_count": 18,
   "id": "14ce1e4a-57e5-4f25-a2c6-324be9dd8c99",
   "metadata": {},
   "outputs": [
    {
     "name": "stdout",
     "output_type": "stream",
     "text": [
      "1 2 4 5 6 8 \n",
      "\n",
      "1 10 11 2 4 5 6 8 \n",
      "\n",
      "1 10 11 2 4 5 6 8 12 111 \n",
      "\n"
     ]
    }
   ],
   "source": [
    "# Adding Elements to an Array\n",
    "\n",
    "new_arr=myarray.array('i',[1,2,4,5,6,8])\n",
    "for i in range(0,len(new_arr)):\n",
    "    print(new_arr[i],end=\" \")\n",
    "print(\"\\n\")\n",
    "\n",
    "# Using insert\n",
    "new_arr.insert(1,10)\n",
    "new_arr.insert(2,11)\n",
    "for i in range(0,len(new_arr)):\n",
    "    print(new_arr[i],end=\" \")\n",
    "print(\"\\n\")\n",
    "\n",
    "# Using append\n",
    "new_arr.append(12)\n",
    "new_arr.append(111)\n",
    "for i in range(0,len(new_arr)):\n",
    "    print(new_arr[i],end=\" \")\n",
    "print(\"\\n\")"
   ]
  },
  {
   "cell_type": "code",
   "execution_count": 24,
   "id": "8c752d8c-5a0d-4f36-bcff-5751da5a72bd",
   "metadata": {},
   "outputs": [
    {
     "name": "stdout",
     "output_type": "stream",
     "text": [
      "1 2 4 5 6 8 \n",
      "\n",
      "1 2 22 5 6 8 \n",
      "\n"
     ]
    }
   ],
   "source": [
    "# Updating Elements in Array\n",
    "\n",
    "new_arr1=myarray.array('i',[1,2,4,5,6,8])\n",
    "for i in range(0,len(new_arr1)):\n",
    "    print(new_arr1[i],end=\" \")\n",
    "print(\"\\n\")\n",
    "\n",
    "# Updating the Array\n",
    "new_arr1[2]=22             # Assigned new value at index 2\n",
    "for i in range(0,len(new_arr1)):\n",
    "    print(new_arr1[i],end=\" \")\n",
    "print(\"\\n\")"
   ]
  },
  {
   "cell_type": "code",
   "execution_count": 29,
   "id": "a6d36297-689b-4e10-b994-01a4e81e825f",
   "metadata": {},
   "outputs": [
    {
     "name": "stdout",
     "output_type": "stream",
     "text": [
      "1 2 4 5 6 8 \n",
      "\n",
      "1 4 5 6 8 \n",
      "\n"
     ]
    }
   ],
   "source": [
    "# Deleting Elements in Array\n",
    "\n",
    "new_arr2=myarray.array('i',[1,2,3,4,5,6,8])\n",
    "\n",
    "# Using pop\n",
    "new_arr2.pop(2)          # Removes the Element at Index 2\n",
    "for i in range(0,len(new_arr2)):\n",
    "    print(new_arr2[i],end=\" \")\n",
    "print(\"\\n\")\n",
    "\n",
    "# Using remove\n",
    "new_arr2.remove(2)       # Removes the Element 2\n",
    "for i in range(0,len(new_arr2)):\n",
    "    print(new_arr2[i],end=\" \")\n",
    "print(\"\\n\")"
   ]
  },
  {
   "cell_type": "code",
   "execution_count": 34,
   "id": "80253c77-302a-4183-a382-0867f38f8c3c",
   "metadata": {},
   "outputs": [
    {
     "name": "stdout",
     "output_type": "stream",
     "text": [
      "array('i', [1, 3, 5, 7, 9, 11, 13, 15, 17, 19, 21, 23, 25, 27, 29, 31, 33, 35, 37, 39, 41, 43, 45, 47, 49, 51, 53, 55, 57, 59, 61, 63, 65, 67, 69, 71, 73, 75, 77, 79, 81, 83, 85, 87, 89, 91, 93, 95, 97, 99])\n",
      "1 3 5 7 9 11 13 15 17 19 \n",
      "\n",
      "21 23 25 27 29 31 33 35 37 39 41 43 45 47 49 51 53 55 57 59 61 63 65 67 69 71 73 75 77 79 \n",
      "\n",
      "1 5 9 13 17 21 25 29 33 37 41 45 49 53 57 61 65 69 73 77 81 85 89 93 97 \n",
      "\n",
      "99 97 95 93 91 89 87 85 83 81 79 77 75 73 71 69 67 65 63 61 59 57 55 53 51 49 47 45 43 41 39 37 35 33 31 29 27 25 23 21 19 17 15 13 11 9 7 5 3 1 \n",
      "\n"
     ]
    }
   ],
   "source": [
    "# Slicing \n",
    "\n",
    "y=list(range(1,101,2))\n",
    "arr=myarray.array('i',y)\n",
    "print(arr)\n",
    "\n",
    "arr0=arr[0:10]\n",
    "for i in range(0,len(arr0)):\n",
    "    print(arr0[i],end=\" \")\n",
    "print(\"\\n\")\n",
    "\n",
    "# Negative Indexing \n",
    "arr0=arr[10:-10]\n",
    "for i in range(0,len(arr0)):\n",
    "    print(arr0[i],end=\" \")\n",
    "print(\"\\n\")\n",
    "\n",
    "\n",
    "arr0=arr[::2]\n",
    "for i in range(0,len(arr0)):\n",
    "    print(arr0[i],end=\" \")\n",
    "print(\"\\n\")\n",
    "\n",
    "# Reversing the order using Slicing \n",
    "arr0=arr[::-1]\n",
    "for i in range(0,len(arr0)):\n",
    "    print(arr0[i],end=\" \")\n",
    "print(\"\\n\")"
   ]
  },
  {
   "cell_type": "code",
   "execution_count": 42,
   "id": "22f60644-a6b6-42af-b2a3-10df78b9e8bc",
   "metadata": {},
   "outputs": [
    {
     "name": "stdout",
     "output_type": "stream",
     "text": [
      "1 6 11 16 21 26 31 36 41 46 51 56 \n",
      "\n",
      "11 56\n"
     ]
    }
   ],
   "source": [
    "# Searching\n",
    "\n",
    "# using index() method\n",
    "\n",
    "x=list(range(1,61,5))\n",
    "arr=myarray.array('i',x)\n",
    "for i in range(0,len(arr)):\n",
    "    print(arr[i],end=\" \")\n",
    "print(\"\\n\")\n",
    "\n",
    "index=arr.index(56)\n",
    "result=arr[index]\n",
    "print(index,result)"
   ]
  },
  {
   "cell_type": "code",
   "execution_count": 48,
   "id": "b22425d5-cb9b-477d-8326-0cc7eb56d54a",
   "metadata": {},
   "outputs": [
    {
     "name": "stdout",
     "output_type": "stream",
     "text": [
      "[1, 2, 4, 5, 6, 8, 10]\n",
      "Ascending:  [1, 2, 4, 5, 6, 8, 10]\n",
      "Descending:  [10, 8, 6, 5, 4, 2, 1]\n"
     ]
    }
   ],
   "source": [
    "# Sorting Operations\n",
    "sort_array=myarray.array('i',[1,2,4,5,6,8,10])\n",
    "sorted_array=sort_array.tolist()\n",
    "print(sorted_array)\n",
    "\n",
    "# Ascending Order\n",
    "sorted_array.sort()\n",
    "print(\"Ascending: \",sorted_array)\n",
    "\n",
    "# Descending Order\n",
    "sorted_array.sort(reverse=True)\n",
    "print(\"Descending: \",sorted_array)"
   ]
  },
  {
   "cell_type": "code",
   "execution_count": 49,
   "id": "90b3dadb-bd93-453b-a3de-5ebfb704d7bc",
   "metadata": {},
   "outputs": [],
   "source": [
    "## Numpy Arrays"
   ]
  },
  {
   "cell_type": "code",
   "execution_count": 60,
   "id": "2b3f1318-9eec-4dc6-857e-70d44acf6163",
   "metadata": {},
   "outputs": [
    {
     "name": "stdout",
     "output_type": "stream",
     "text": [
      "[1 2 4 5 6 7 8]\n",
      "\n",
      "\n",
      "[[0. 0.]\n",
      " [0. 0.]]\n",
      "\n",
      "\n",
      "[[1. 1.]\n",
      " [1. 1.]]\n",
      "\n",
      "\n",
      "[[5 5]\n",
      " [5 5]]\n",
      "\n",
      "\n",
      "[[1. 0.]\n",
      " [0. 1.]]\n",
      "\n",
      "\n",
      "[[0.94736455 0.54006642]\n",
      " [0.27164296 0.02345656]]\n"
     ]
    }
   ],
   "source": [
    "# Creating Numpy Arrays\n",
    "import numpy as np\n",
    "\n",
    "array=np.array([1,2,4,5,6,7,8])\n",
    "print(array)\n",
    "print(\"\\n\")\n",
    "\n",
    "# Creating an Array with all Zeros\n",
    "zeros=np.zeros((2,2))\n",
    "print(zeros)\n",
    "print(\"\\n\")\n",
    "\n",
    "# Creating an Array with all Ones\n",
    "Ones=np.ones((2,2))\n",
    "print(Ones)\n",
    "print(\"\\n\")\n",
    "\n",
    "# Creating an Array with constant Values\n",
    "const=np.full((2,2),5)\n",
    "print(const)\n",
    "print(\"\\n\")\n",
    "\n",
    "# Creating an identity matrix\n",
    "iden=np.eye(2)\n",
    "print(iden)\n",
    "print(\"\\n\")\n",
    "\n",
    "# Creating an Array with random Values\n",
    "random=np.random.random((2,2))\n",
    "print(random)"
   ]
  },
  {
   "cell_type": "code",
   "execution_count": 73,
   "id": "d2e8f72a-80a0-4922-84f4-a3fadcf779da",
   "metadata": {},
   "outputs": [
    {
     "name": "stdout",
     "output_type": "stream",
     "text": [
      "1\n",
      "\n",
      "\n",
      "[1 2]\n",
      "\n",
      "\n",
      "[[1 2]\n",
      " [4 6]]\n",
      "\n",
      "\n",
      "[[1 2 5]\n",
      " [4 6 2]\n",
      " [2 4 6]\n",
      " [1 2 5]]\n",
      "\n",
      "\n",
      "[[[[1 2 4 5 6 8]]]]\n",
      "\n",
      "\n",
      "0\n",
      "1\n",
      "2\n",
      "2\n",
      "4\n"
     ]
    }
   ],
   "source": [
    "# 1D, 2D and 3D Arrays\n",
    "\n",
    "# 0 Dimensional Array\n",
    "zerod=np.array(1)\n",
    "print(zerod)\n",
    "print(\"\\n\")\n",
    "\n",
    "# 1 Dimensional Array\n",
    "oned=np.array([1,2])\n",
    "print(oned)\n",
    "print(\"\\n\")\n",
    "\n",
    "# 2 Dimensional Array\n",
    "twod=np.array([[1,2],[4,6]])\n",
    "print(twod)\n",
    "print(\"\\n\")\n",
    "\n",
    "# 2 Dimensional Array\n",
    "threed=np.array([[1,2,5],[4,6,2],[2,4,6],[1,2,5]])\n",
    "print(threed)\n",
    "print(\"\\n\")\n",
    "\n",
    "# Multi Dimensional Array\n",
    "multid=np.array([1,2,4,5,6,8],ndmin=4)\n",
    "print(multid)\n",
    "print(\"\\n\")\n",
    "\n",
    "# To check the dimensions of the array\n",
    "\n",
    "print(zerod.ndim)\n",
    "print(oned.ndim)\n",
    "print(twod.ndim)\n",
    "print(threed.ndim)\n",
    "print(multid.ndim)"
   ]
  },
  {
   "cell_type": "code",
   "execution_count": 79,
   "id": "37fd023c-076b-4747-a77e-13cc3913479a",
   "metadata": {},
   "outputs": [
    {
     "name": "stdout",
     "output_type": "stream",
     "text": [
      "1 2 4 5 6 8 \n",
      "\n",
      "[2 2 4 5 6 8]\n",
      "\n",
      "\n",
      "[2 2 5 6 8]\n",
      "\n",
      "\n"
     ]
    }
   ],
   "source": [
    "# CRUD Operations on numpy arrays\n",
    "\n",
    "# Reading From a Numpy Array\n",
    "array=np.array([1,2,4,5,6,8])\n",
    "for i in range(0,len(array)):\n",
    "    print(array[i],end=\" \")\n",
    "print(\"\\n\")\n",
    "\n",
    "# Updating an Element in a Numpy Array, we make use of indexing here.\n",
    "array[0]=2\n",
    "print(array)\n",
    "print(\"\\n\")\n",
    "\n",
    "# Deleting an Element from a Numpy Array\n",
    "array=np.delete(array,2)\n",
    "print(array)\n",
    "print(\"\\n\")"
   ]
  },
  {
   "cell_type": "code",
   "execution_count": 82,
   "id": "987424d3-ecc4-4eb6-bb77-19b45b719e49",
   "metadata": {},
   "outputs": [
    {
     "name": "stdout",
     "output_type": "stream",
     "text": [
      "(array([110], dtype=int64),)\n",
      "550\n"
     ]
    }
   ],
   "source": [
    "# Searching Elements in numpy array\n",
    "x=list(range(0,2000,5))\n",
    "search_array=np.array(x)\n",
    "\n",
    "# Searching the Element 550\n",
    "res=np.where(search_array==550)\n",
    "print(res)\n",
    "\n",
    "# Checking if the returning index is true\n",
    "print(search_array[110])"
   ]
  },
  {
   "cell_type": "code",
   "execution_count": 87,
   "id": "24d1bf72-1b29-4a99-9ce4-fb206e251b6a",
   "metadata": {},
   "outputs": [
    {
     "data": {
      "text/plain": [
       "array([1, 2, 4, 5, 6, 7, 8])"
      ]
     },
     "execution_count": 87,
     "metadata": {},
     "output_type": "execute_result"
    }
   ],
   "source": [
    "# Sorting Elements in a numpy array\n",
    "sample_sort_array=np.array([1,2,4,6,5,8,7])\n",
    "\n",
    "# Sorting the numpy array using sort()\n",
    "x=np.sort(sample_sort_array)\n",
    "x"
   ]
  },
  {
   "cell_type": "code",
   "execution_count": 89,
   "id": "7e1c2b76-efbb-4245-b5ea-1dd19b47bd2b",
   "metadata": {},
   "outputs": [
    {
     "name": "stdout",
     "output_type": "stream",
     "text": [
      "[[ 5  7 10]]\n",
      "\n",
      "\n",
      "[[-3 -3 -2]]\n",
      "\n",
      "\n",
      "[[-3 -3 -2]]\n",
      "\n",
      "\n",
      "[[ 4 10 24]]\n",
      "\n",
      "\n",
      "[[0.25       0.4        0.66666667]]\n",
      "\n",
      "\n",
      "[[1.         1.41421356 2.        ]]\n",
      "[[2.         2.23606798 2.44948974]]\n"
     ]
    }
   ],
   "source": [
    "# Mathematical Operation on numpy arrays\n",
    "a=np.array([[1,2,4]],dtype=np.int64)\n",
    "b=np.array([[4,5,6]],dtype=np.int64)\n",
    "\n",
    "# Adding 2 Numpy Arrays\n",
    "addition = np.add(a,b)\n",
    "print(addition)\n",
    "print(\"\\n\")\n",
    "\n",
    "# Subtracting 2 Numpy Arrays\n",
    "subtraction = np.subtract(a,b)\n",
    "print(subtraction)\n",
    "print(\"\\n\")\n",
    "\n",
    "# Subtracting 2 Numpy Arrays\n",
    "subtraction = np.subtract(a,b)\n",
    "print(subtraction)\n",
    "print(\"\\n\")\n",
    "\n",
    "# Multiplying 2 Numpy Arrays\n",
    "multiply = np.multiply(a,b)\n",
    "print(multiply)\n",
    "print(\"\\n\")\n",
    "\n",
    "# Dividing 2 Numpy Arrays\n",
    "divide = np.divide(a,b)\n",
    "print(divide)\n",
    "print(\"\\n\")\n",
    "\n",
    "# Square root of Numpy Arrays\n",
    "sqrt = np.sqrt(a)\n",
    "sqrt1 = np.sqrt(b)\n",
    "print(sqrt)\n",
    "print(sqrt1)\n",
    "print(\"\\n\")\n",
    "\n",
    "# Transpose of Numpy Arrays\n",
    "x=np.array([[1,2,4],[2,4,5],[5,6,7]])\n",
    "transpose=np.transpose(x)\n",
    "print(x)\n",
    "print(\"\\n\")\n",
    "print(sqrt1)"
   ]
  },
  {
   "cell_type": "code",
   "execution_count": null,
   "id": "9ab8aefa-0e3e-4746-902b-b5af8da4648e",
   "metadata": {},
   "outputs": [],
   "source": []
  }
 ],
 "metadata": {
  "kernelspec": {
   "display_name": "Python 3 (ipykernel)",
   "language": "python",
   "name": "python3"
  },
  "language_info": {
   "codemirror_mode": {
    "name": "ipython",
    "version": 3
   },
   "file_extension": ".py",
   "mimetype": "text/x-python",
   "name": "python",
   "nbconvert_exporter": "python",
   "pygments_lexer": "ipython3",
   "version": "3.11.7"
  }
 },
 "nbformat": 4,
 "nbformat_minor": 5
}
